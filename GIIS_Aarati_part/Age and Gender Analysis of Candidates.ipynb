{
 "cells": [
  {
   "cell_type": "code",
   "execution_count": 1,
   "id": "71d7675c",
   "metadata": {},
   "outputs": [],
   "source": [
    "import pandas as pd\n",
    "import numpy as np"
   ]
  },
  {
   "cell_type": "code",
   "execution_count": 2,
   "id": "dc3507b7",
   "metadata": {},
   "outputs": [],
   "source": [
    "df=pd.read_csv(\"state1_eng.xlsx.csv\")"
   ]
  },
  {
   "cell_type": "code",
   "execution_count": 3,
   "id": "bc29a1fb",
   "metadata": {},
   "outputs": [],
   "source": [
    "df = df[df['Position']== 'Mayor']"
   ]
  },
  {
   "cell_type": "code",
   "execution_count": 4,
   "id": "93b8fa7a",
   "metadata": {},
   "outputs": [],
   "source": [
    "a_g=pd.DataFrame(columns=['District','Male Count','Female Count','21-40','41-60','60+'])\n"
   ]
  },
  {
   "cell_type": "code",
   "execution_count": 5,
   "id": "f1acaae0",
   "metadata": {},
   "outputs": [],
   "source": [
    "a_g['District'] = df.District.unique()"
   ]
  },
  {
   "cell_type": "code",
   "execution_count": 6,
   "id": "169bf87d",
   "metadata": {},
   "outputs": [],
   "source": [
    "def age_analysis(age_group):\n",
    "    colum = []\n",
    "    for district in a_g['District']:\n",
    "        \n",
    "        if((district in age_group['District'].unique())==True):\n",
    "             colum.append(age_group.loc[age_group['District']== district]['count'].iloc[0])\n",
    "          \n",
    "        else:\n",
    "            colum.append(0)\n",
    "    return colum"
   ]
  },
  {
   "cell_type": "code",
   "execution_count": 7,
   "id": "4685a7d2",
   "metadata": {},
   "outputs": [],
   "source": [
    "Male_data = df.loc[df['Gender'] == 'M']\n",
    "gender_data =df.loc[df['Gender'] == 'F']\n",
    "age_group_40 = df.loc[(df['Age']>21) &( df['Age']<40)]\n",
    "age_group_61 = df[df['Age']<61]\n",
    "age_group_40_2_60 = df.loc[(df['Age']>41)& (df['Age']<61)]"
   ]
  },
  {
   "cell_type": "code",
   "execution_count": 8,
   "id": "16266f3f",
   "metadata": {},
   "outputs": [],
   "source": [
    "Male_count = Male_data.groupby(['District',]).District.size().reset_index(name='count')\n",
    "Gender_count = gender_data.groupby(['District',]).District.size().reset_index(name='count')\n",
    "count_age_group_40 = age_group_40.groupby(by=['District']).District.count().reset_index(name='count')\n",
    "count_age_group_40_2_60 = age_group_40_2_60.groupby(by=['District']).District.size().reset_index(name ='count')\n",
    "count_age_group_61 = age_group_61.groupby(by=['District']).District.size().reset_index(name ='count')"
   ]
  },
  {
   "cell_type": "code",
   "execution_count": 9,
   "id": "98b9059b",
   "metadata": {},
   "outputs": [],
   "source": [
    "male_count_list =  age_analysis(Male_count)\n",
    "Female_count = age_analysis(Gender_count)\n",
    "less_than_40  = age_analysis(count_age_group_40)\n",
    "within_40_2_60 = age_analysis(count_age_group_40_2_60) \n",
    "more_than_61 = age_analysis(count_age_group_61)\n"
   ]
  },
  {
   "cell_type": "code",
   "execution_count": 10,
   "id": "448ffa6f",
   "metadata": {},
   "outputs": [],
   "source": [
    "a_g['Female Count']=Female_count\n",
    "a_g['Male Count']=  male_count_list \n",
    "a_g['21-40']= less_than_40\n",
    "a_g['41-60'] = within_40_2_60\n",
    "a_g['60+'] = more_than_61  "
   ]
  },
  {
   "cell_type": "code",
   "execution_count": 11,
   "id": "1fee3179",
   "metadata": {},
   "outputs": [
    {
     "data": {
      "text/html": [
       "<div>\n",
       "<style scoped>\n",
       "    .dataframe tbody tr th:only-of-type {\n",
       "        vertical-align: middle;\n",
       "    }\n",
       "\n",
       "    .dataframe tbody tr th {\n",
       "        vertical-align: top;\n",
       "    }\n",
       "\n",
       "    .dataframe thead th {\n",
       "        text-align: right;\n",
       "    }\n",
       "</style>\n",
       "<table border=\"1\" class=\"dataframe\">\n",
       "  <thead>\n",
       "    <tr style=\"text-align: right;\">\n",
       "      <th></th>\n",
       "      <th>District</th>\n",
       "      <th>Male Count</th>\n",
       "      <th>Female Count</th>\n",
       "      <th>21-40</th>\n",
       "      <th>41-60</th>\n",
       "      <th>60+</th>\n",
       "    </tr>\n",
       "  </thead>\n",
       "  <tbody>\n",
       "    <tr>\n",
       "      <th>0</th>\n",
       "      <td>Pachthar</td>\n",
       "      <td>16</td>\n",
       "      <td>0</td>\n",
       "      <td>0</td>\n",
       "      <td>10</td>\n",
       "      <td>10</td>\n",
       "    </tr>\n",
       "    <tr>\n",
       "      <th>1</th>\n",
       "      <td>Jhapa</td>\n",
       "      <td>14</td>\n",
       "      <td>1</td>\n",
       "      <td>0</td>\n",
       "      <td>14</td>\n",
       "      <td>14</td>\n",
       "    </tr>\n",
       "    <tr>\n",
       "      <th>2</th>\n",
       "      <td>Sankhuwasawa</td>\n",
       "      <td>10</td>\n",
       "      <td>0</td>\n",
       "      <td>4</td>\n",
       "      <td>4</td>\n",
       "      <td>9</td>\n",
       "    </tr>\n",
       "    <tr>\n",
       "      <th>3</th>\n",
       "      <td>Therathum</td>\n",
       "      <td>6</td>\n",
       "      <td>0</td>\n",
       "      <td>2</td>\n",
       "      <td>4</td>\n",
       "      <td>6</td>\n",
       "    </tr>\n",
       "    <tr>\n",
       "      <th>4</th>\n",
       "      <td>Bhojpur</td>\n",
       "      <td>9</td>\n",
       "      <td>0</td>\n",
       "      <td>4</td>\n",
       "      <td>5</td>\n",
       "      <td>9</td>\n",
       "    </tr>\n",
       "    <tr>\n",
       "      <th>5</th>\n",
       "      <td>Dhankuta</td>\n",
       "      <td>7</td>\n",
       "      <td>0</td>\n",
       "      <td>3</td>\n",
       "      <td>3</td>\n",
       "      <td>7</td>\n",
       "    </tr>\n",
       "    <tr>\n",
       "      <th>6</th>\n",
       "      <td>Morang</td>\n",
       "      <td>17</td>\n",
       "      <td>0</td>\n",
       "      <td>1</td>\n",
       "      <td>11</td>\n",
       "      <td>14</td>\n",
       "    </tr>\n",
       "    <tr>\n",
       "      <th>7</th>\n",
       "      <td>Sunsari</td>\n",
       "      <td>12</td>\n",
       "      <td>0</td>\n",
       "      <td>1</td>\n",
       "      <td>8</td>\n",
       "      <td>10</td>\n",
       "    </tr>\n",
       "    <tr>\n",
       "      <th>8</th>\n",
       "      <td>Solukhumbu</td>\n",
       "      <td>8</td>\n",
       "      <td>0</td>\n",
       "      <td>5</td>\n",
       "      <td>3</td>\n",
       "      <td>8</td>\n",
       "    </tr>\n",
       "    <tr>\n",
       "      <th>9</th>\n",
       "      <td>Khotang</td>\n",
       "      <td>10</td>\n",
       "      <td>0</td>\n",
       "      <td>4</td>\n",
       "      <td>5</td>\n",
       "      <td>10</td>\n",
       "    </tr>\n",
       "    <tr>\n",
       "      <th>10</th>\n",
       "      <td>Okhaldhunga</td>\n",
       "      <td>8</td>\n",
       "      <td>0</td>\n",
       "      <td>1</td>\n",
       "      <td>5</td>\n",
       "      <td>6</td>\n",
       "    </tr>\n",
       "    <tr>\n",
       "      <th>11</th>\n",
       "      <td>Udayapur</td>\n",
       "      <td>8</td>\n",
       "      <td>0</td>\n",
       "      <td>1</td>\n",
       "      <td>7</td>\n",
       "      <td>8</td>\n",
       "    </tr>\n",
       "    <tr>\n",
       "      <th>12</th>\n",
       "      <td>Taplejung</td>\n",
       "      <td>9</td>\n",
       "      <td>0</td>\n",
       "      <td>1</td>\n",
       "      <td>6</td>\n",
       "      <td>8</td>\n",
       "    </tr>\n",
       "  </tbody>\n",
       "</table>\n",
       "</div>"
      ],
      "text/plain": [
       "        District  Male Count  Female Count  21-40  41-60  60+\n",
       "0       Pachthar          16             0      0     10   10\n",
       "1          Jhapa          14             1      0     14   14\n",
       "2   Sankhuwasawa          10             0      4      4    9\n",
       "3      Therathum           6             0      2      4    6\n",
       "4        Bhojpur           9             0      4      5    9\n",
       "5       Dhankuta           7             0      3      3    7\n",
       "6         Morang          17             0      1     11   14\n",
       "7        Sunsari          12             0      1      8   10\n",
       "8     Solukhumbu           8             0      5      3    8\n",
       "9        Khotang          10             0      4      5   10\n",
       "10   Okhaldhunga           8             0      1      5    6\n",
       "11      Udayapur           8             0      1      7    8\n",
       "12     Taplejung           9             0      1      6    8"
      ]
     },
     "execution_count": 11,
     "metadata": {},
     "output_type": "execute_result"
    }
   ],
   "source": [
    "a_g"
   ]
  },
  {
   "cell_type": "code",
   "execution_count": 12,
   "id": "70776031",
   "metadata": {},
   "outputs": [],
   "source": [
    "a_g.to_csv('Mayor_state1.csv')"
   ]
  },
  {
   "cell_type": "code",
   "execution_count": null,
   "id": "aa4b501d",
   "metadata": {},
   "outputs": [],
   "source": []
  }
 ],
 "metadata": {
  "kernelspec": {
   "display_name": "Python 3",
   "language": "python",
   "name": "python3"
  },
  "language_info": {
   "codemirror_mode": {
    "name": "ipython",
    "version": 3
   },
   "file_extension": ".py",
   "mimetype": "text/x-python",
   "name": "python",
   "nbconvert_exporter": "python",
   "pygments_lexer": "ipython3",
   "version": "3.8.8"
  }
 },
 "nbformat": 4,
 "nbformat_minor": 5
}
