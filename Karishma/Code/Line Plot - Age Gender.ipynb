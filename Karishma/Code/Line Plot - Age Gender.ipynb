{
 "cells": [
  {
   "cell_type": "code",
   "execution_count": 15,
   "id": "6cc67d26",
   "metadata": {},
   "outputs": [
    {
     "data": {
      "application/vnd.plotly.v1+json": {
       "config": {
        "plotlyServerURL": "https://plot.ly"
       },
       "data": [
        {
         "line": {
          "color": "#4C4C4F",
          "shape": "linear"
         },
         "mode": "lines+markers+text",
         "name": "पुरुष प्रतिनिधित्व",
         "showlegend": false,
         "text": [
          "२९,८०८",
          "३२,२३५"
         ],
         "textposition": [
          "top right",
          "top left"
         ],
         "type": "scatter",
         "x": [
          "२०७४",
          "२०७९"
         ],
         "xaxis": "x",
         "y": [
          0.298,
          0.322
         ],
         "yaxis": "y"
        },
        {
         "line": {
          "color": "#F82F49",
          "shape": "linear"
         },
         "mode": "lines+markers+text",
         "name": "महिला प्रतिनिधित्व",
         "showlegend": false,
         "text": [
          "२७,८९२",
          "२७,१६७"
         ],
         "textposition": [
          "bottom right",
          "bottom left"
         ],
         "type": "scatter",
         "x": [
          "२०७४",
          "२०७९"
         ],
         "xaxis": "x",
         "y": [
          0.279,
          0.272
         ],
         "yaxis": "y"
        },
        {
         "line": {
          "color": "#4C4C4F",
          "shape": "linear"
         },
         "mode": "lines+markers+text",
         "name": "पुरुष प्रतिनिधित्व",
         "showlegend": false,
         "text": [
          "४९,०२४",
          "४७,१०९"
         ],
         "textposition": [
          "top right",
          "top left"
         ],
         "type": "scatter",
         "x": [
          "२०७४",
          "२०७९"
         ],
         "xaxis": "x2",
         "y": [
          0.49,
          0.471
         ],
         "yaxis": "y2"
        },
        {
         "line": {
          "color": "#F82F49",
          "shape": "linear"
         },
         "mode": "lines+markers+text",
         "name": "महिला प्रतिनिधित्व",
         "showlegend": false,
         "text": [
          "२६,६४४",
          "२५,६४९"
         ],
         "textposition": [
          "top right",
          "top left"
         ],
         "type": "scatter",
         "x": [
          "२०७४",
          "२०७९"
         ],
         "xaxis": "x2",
         "y": [
          0.266,
          0.256
         ],
         "yaxis": "y2"
        },
        {
         "line": {
          "color": "#4C4C4F",
          "shape": "linear"
         },
         "mode": "lines+markers+text",
         "name": "पुरुष प्रतिनिधित्व",
         "text": [
          "११,६८८",
          "९,८९३"
         ],
         "textposition": [
          "top right",
          "top left"
         ],
         "type": "scatter",
         "x": [
          "२०७४",
          "२०७९"
         ],
         "xaxis": "x3",
         "y": [
          0.12,
          0.1
         ],
         "yaxis": "y3"
        },
        {
         "line": {
          "color": "#F82F49",
          "shape": "linear"
         },
         "mode": "lines+markers+text",
         "name": "महिला प्रतिनिधित्व",
         "text": [
          "३,३०७",
          "२,८०६"
         ],
         "textposition": [
          "top right",
          "top left"
         ],
         "type": "scatter",
         "x": [
          "२०७४",
          "२०७९"
         ],
         "xaxis": "x3",
         "y": [
          0.03307,
          0.02806
         ],
         "yaxis": "y3"
        }
       ],
       "layout": {
        "autosize": false,
        "plot_bgcolor": "#e8f9f6",
        "template": {
         "data": {
          "bar": [
           {
            "error_x": {
             "color": "#2a3f5f"
            },
            "error_y": {
             "color": "#2a3f5f"
            },
            "marker": {
             "line": {
              "color": "#E5ECF6",
              "width": 0.5
             },
             "pattern": {
              "fillmode": "overlay",
              "size": 10,
              "solidity": 0.2
             }
            },
            "type": "bar"
           }
          ],
          "barpolar": [
           {
            "marker": {
             "line": {
              "color": "#E5ECF6",
              "width": 0.5
             },
             "pattern": {
              "fillmode": "overlay",
              "size": 10,
              "solidity": 0.2
             }
            },
            "type": "barpolar"
           }
          ],
          "carpet": [
           {
            "aaxis": {
             "endlinecolor": "#2a3f5f",
             "gridcolor": "white",
             "linecolor": "white",
             "minorgridcolor": "white",
             "startlinecolor": "#2a3f5f"
            },
            "baxis": {
             "endlinecolor": "#2a3f5f",
             "gridcolor": "white",
             "linecolor": "white",
             "minorgridcolor": "white",
             "startlinecolor": "#2a3f5f"
            },
            "type": "carpet"
           }
          ],
          "choropleth": [
           {
            "colorbar": {
             "outlinewidth": 0,
             "ticks": ""
            },
            "type": "choropleth"
           }
          ],
          "contour": [
           {
            "colorbar": {
             "outlinewidth": 0,
             "ticks": ""
            },
            "colorscale": [
             [
              0,
              "#0d0887"
             ],
             [
              0.1111111111111111,
              "#46039f"
             ],
             [
              0.2222222222222222,
              "#7201a8"
             ],
             [
              0.3333333333333333,
              "#9c179e"
             ],
             [
              0.4444444444444444,
              "#bd3786"
             ],
             [
              0.5555555555555556,
              "#d8576b"
             ],
             [
              0.6666666666666666,
              "#ed7953"
             ],
             [
              0.7777777777777778,
              "#fb9f3a"
             ],
             [
              0.8888888888888888,
              "#fdca26"
             ],
             [
              1,
              "#f0f921"
             ]
            ],
            "type": "contour"
           }
          ],
          "contourcarpet": [
           {
            "colorbar": {
             "outlinewidth": 0,
             "ticks": ""
            },
            "type": "contourcarpet"
           }
          ],
          "heatmap": [
           {
            "colorbar": {
             "outlinewidth": 0,
             "ticks": ""
            },
            "colorscale": [
             [
              0,
              "#0d0887"
             ],
             [
              0.1111111111111111,
              "#46039f"
             ],
             [
              0.2222222222222222,
              "#7201a8"
             ],
             [
              0.3333333333333333,
              "#9c179e"
             ],
             [
              0.4444444444444444,
              "#bd3786"
             ],
             [
              0.5555555555555556,
              "#d8576b"
             ],
             [
              0.6666666666666666,
              "#ed7953"
             ],
             [
              0.7777777777777778,
              "#fb9f3a"
             ],
             [
              0.8888888888888888,
              "#fdca26"
             ],
             [
              1,
              "#f0f921"
             ]
            ],
            "type": "heatmap"
           }
          ],
          "heatmapgl": [
           {
            "colorbar": {
             "outlinewidth": 0,
             "ticks": ""
            },
            "colorscale": [
             [
              0,
              "#0d0887"
             ],
             [
              0.1111111111111111,
              "#46039f"
             ],
             [
              0.2222222222222222,
              "#7201a8"
             ],
             [
              0.3333333333333333,
              "#9c179e"
             ],
             [
              0.4444444444444444,
              "#bd3786"
             ],
             [
              0.5555555555555556,
              "#d8576b"
             ],
             [
              0.6666666666666666,
              "#ed7953"
             ],
             [
              0.7777777777777778,
              "#fb9f3a"
             ],
             [
              0.8888888888888888,
              "#fdca26"
             ],
             [
              1,
              "#f0f921"
             ]
            ],
            "type": "heatmapgl"
           }
          ],
          "histogram": [
           {
            "marker": {
             "pattern": {
              "fillmode": "overlay",
              "size": 10,
              "solidity": 0.2
             }
            },
            "type": "histogram"
           }
          ],
          "histogram2d": [
           {
            "colorbar": {
             "outlinewidth": 0,
             "ticks": ""
            },
            "colorscale": [
             [
              0,
              "#0d0887"
             ],
             [
              0.1111111111111111,
              "#46039f"
             ],
             [
              0.2222222222222222,
              "#7201a8"
             ],
             [
              0.3333333333333333,
              "#9c179e"
             ],
             [
              0.4444444444444444,
              "#bd3786"
             ],
             [
              0.5555555555555556,
              "#d8576b"
             ],
             [
              0.6666666666666666,
              "#ed7953"
             ],
             [
              0.7777777777777778,
              "#fb9f3a"
             ],
             [
              0.8888888888888888,
              "#fdca26"
             ],
             [
              1,
              "#f0f921"
             ]
            ],
            "type": "histogram2d"
           }
          ],
          "histogram2dcontour": [
           {
            "colorbar": {
             "outlinewidth": 0,
             "ticks": ""
            },
            "colorscale": [
             [
              0,
              "#0d0887"
             ],
             [
              0.1111111111111111,
              "#46039f"
             ],
             [
              0.2222222222222222,
              "#7201a8"
             ],
             [
              0.3333333333333333,
              "#9c179e"
             ],
             [
              0.4444444444444444,
              "#bd3786"
             ],
             [
              0.5555555555555556,
              "#d8576b"
             ],
             [
              0.6666666666666666,
              "#ed7953"
             ],
             [
              0.7777777777777778,
              "#fb9f3a"
             ],
             [
              0.8888888888888888,
              "#fdca26"
             ],
             [
              1,
              "#f0f921"
             ]
            ],
            "type": "histogram2dcontour"
           }
          ],
          "mesh3d": [
           {
            "colorbar": {
             "outlinewidth": 0,
             "ticks": ""
            },
            "type": "mesh3d"
           }
          ],
          "parcoords": [
           {
            "line": {
             "colorbar": {
              "outlinewidth": 0,
              "ticks": ""
             }
            },
            "type": "parcoords"
           }
          ],
          "pie": [
           {
            "automargin": true,
            "type": "pie"
           }
          ],
          "scatter": [
           {
            "marker": {
             "colorbar": {
              "outlinewidth": 0,
              "ticks": ""
             }
            },
            "type": "scatter"
           }
          ],
          "scatter3d": [
           {
            "line": {
             "colorbar": {
              "outlinewidth": 0,
              "ticks": ""
             }
            },
            "marker": {
             "colorbar": {
              "outlinewidth": 0,
              "ticks": ""
             }
            },
            "type": "scatter3d"
           }
          ],
          "scattercarpet": [
           {
            "marker": {
             "colorbar": {
              "outlinewidth": 0,
              "ticks": ""
             }
            },
            "type": "scattercarpet"
           }
          ],
          "scattergeo": [
           {
            "marker": {
             "colorbar": {
              "outlinewidth": 0,
              "ticks": ""
             }
            },
            "type": "scattergeo"
           }
          ],
          "scattergl": [
           {
            "marker": {
             "colorbar": {
              "outlinewidth": 0,
              "ticks": ""
             }
            },
            "type": "scattergl"
           }
          ],
          "scattermapbox": [
           {
            "marker": {
             "colorbar": {
              "outlinewidth": 0,
              "ticks": ""
             }
            },
            "type": "scattermapbox"
           }
          ],
          "scatterpolar": [
           {
            "marker": {
             "colorbar": {
              "outlinewidth": 0,
              "ticks": ""
             }
            },
            "type": "scatterpolar"
           }
          ],
          "scatterpolargl": [
           {
            "marker": {
             "colorbar": {
              "outlinewidth": 0,
              "ticks": ""
             }
            },
            "type": "scatterpolargl"
           }
          ],
          "scatterternary": [
           {
            "marker": {
             "colorbar": {
              "outlinewidth": 0,
              "ticks": ""
             }
            },
            "type": "scatterternary"
           }
          ],
          "surface": [
           {
            "colorbar": {
             "outlinewidth": 0,
             "ticks": ""
            },
            "colorscale": [
             [
              0,
              "#0d0887"
             ],
             [
              0.1111111111111111,
              "#46039f"
             ],
             [
              0.2222222222222222,
              "#7201a8"
             ],
             [
              0.3333333333333333,
              "#9c179e"
             ],
             [
              0.4444444444444444,
              "#bd3786"
             ],
             [
              0.5555555555555556,
              "#d8576b"
             ],
             [
              0.6666666666666666,
              "#ed7953"
             ],
             [
              0.7777777777777778,
              "#fb9f3a"
             ],
             [
              0.8888888888888888,
              "#fdca26"
             ],
             [
              1,
              "#f0f921"
             ]
            ],
            "type": "surface"
           }
          ],
          "table": [
           {
            "cells": {
             "fill": {
              "color": "#EBF0F8"
             },
             "line": {
              "color": "white"
             }
            },
            "header": {
             "fill": {
              "color": "#C8D4E3"
             },
             "line": {
              "color": "white"
             }
            },
            "type": "table"
           }
          ]
         },
         "layout": {
          "annotationdefaults": {
           "arrowcolor": "#2a3f5f",
           "arrowhead": 0,
           "arrowwidth": 1
          },
          "autotypenumbers": "strict",
          "coloraxis": {
           "colorbar": {
            "outlinewidth": 0,
            "ticks": ""
           }
          },
          "colorscale": {
           "diverging": [
            [
             0,
             "#8e0152"
            ],
            [
             0.1,
             "#c51b7d"
            ],
            [
             0.2,
             "#de77ae"
            ],
            [
             0.3,
             "#f1b6da"
            ],
            [
             0.4,
             "#fde0ef"
            ],
            [
             0.5,
             "#f7f7f7"
            ],
            [
             0.6,
             "#e6f5d0"
            ],
            [
             0.7,
             "#b8e186"
            ],
            [
             0.8,
             "#7fbc41"
            ],
            [
             0.9,
             "#4d9221"
            ],
            [
             1,
             "#276419"
            ]
           ],
           "sequential": [
            [
             0,
             "#0d0887"
            ],
            [
             0.1111111111111111,
             "#46039f"
            ],
            [
             0.2222222222222222,
             "#7201a8"
            ],
            [
             0.3333333333333333,
             "#9c179e"
            ],
            [
             0.4444444444444444,
             "#bd3786"
            ],
            [
             0.5555555555555556,
             "#d8576b"
            ],
            [
             0.6666666666666666,
             "#ed7953"
            ],
            [
             0.7777777777777778,
             "#fb9f3a"
            ],
            [
             0.8888888888888888,
             "#fdca26"
            ],
            [
             1,
             "#f0f921"
            ]
           ],
           "sequentialminus": [
            [
             0,
             "#0d0887"
            ],
            [
             0.1111111111111111,
             "#46039f"
            ],
            [
             0.2222222222222222,
             "#7201a8"
            ],
            [
             0.3333333333333333,
             "#9c179e"
            ],
            [
             0.4444444444444444,
             "#bd3786"
            ],
            [
             0.5555555555555556,
             "#d8576b"
            ],
            [
             0.6666666666666666,
             "#ed7953"
            ],
            [
             0.7777777777777778,
             "#fb9f3a"
            ],
            [
             0.8888888888888888,
             "#fdca26"
            ],
            [
             1,
             "#f0f921"
            ]
           ]
          },
          "colorway": [
           "#636efa",
           "#EF553B",
           "#00cc96",
           "#ab63fa",
           "#FFA15A",
           "#19d3f3",
           "#FF6692",
           "#B6E880",
           "#FF97FF",
           "#FECB52"
          ],
          "font": {
           "color": "#2a3f5f"
          },
          "geo": {
           "bgcolor": "white",
           "lakecolor": "white",
           "landcolor": "#E5ECF6",
           "showlakes": true,
           "showland": true,
           "subunitcolor": "white"
          },
          "hoverlabel": {
           "align": "left"
          },
          "hovermode": "closest",
          "mapbox": {
           "style": "light"
          },
          "paper_bgcolor": "white",
          "plot_bgcolor": "#E5ECF6",
          "polar": {
           "angularaxis": {
            "gridcolor": "white",
            "linecolor": "white",
            "ticks": ""
           },
           "bgcolor": "#E5ECF6",
           "radialaxis": {
            "gridcolor": "white",
            "linecolor": "white",
            "ticks": ""
           }
          },
          "scene": {
           "xaxis": {
            "backgroundcolor": "#E5ECF6",
            "gridcolor": "white",
            "gridwidth": 2,
            "linecolor": "white",
            "showbackground": true,
            "ticks": "",
            "zerolinecolor": "white"
           },
           "yaxis": {
            "backgroundcolor": "#E5ECF6",
            "gridcolor": "white",
            "gridwidth": 2,
            "linecolor": "white",
            "showbackground": true,
            "ticks": "",
            "zerolinecolor": "white"
           },
           "zaxis": {
            "backgroundcolor": "#E5ECF6",
            "gridcolor": "white",
            "gridwidth": 2,
            "linecolor": "white",
            "showbackground": true,
            "ticks": "",
            "zerolinecolor": "white"
           }
          },
          "shapedefaults": {
           "line": {
            "color": "#2a3f5f"
           }
          },
          "ternary": {
           "aaxis": {
            "gridcolor": "white",
            "linecolor": "white",
            "ticks": ""
           },
           "baxis": {
            "gridcolor": "white",
            "linecolor": "white",
            "ticks": ""
           },
           "bgcolor": "#E5ECF6",
           "caxis": {
            "gridcolor": "white",
            "linecolor": "white",
            "ticks": ""
           }
          },
          "title": {
           "x": 0.05
          },
          "xaxis": {
           "automargin": true,
           "gridcolor": "white",
           "linecolor": "white",
           "ticks": "",
           "title": {
            "standoff": 15
           },
           "zerolinecolor": "white",
           "zerolinewidth": 2
          },
          "yaxis": {
           "automargin": true,
           "gridcolor": "white",
           "linecolor": "white",
           "ticks": "",
           "title": {
            "standoff": 15
           },
           "zerolinecolor": "white",
           "zerolinewidth": 2
          }
         }
        },
        "width": 1000,
        "xaxis": {
         "anchor": "y",
         "domain": [
          0,
          0.3
         ],
         "fixedrange": true,
         "showgrid": false,
         "showticklabels": true,
         "tickfont": {
          "family": "Arial",
          "size": 12
         },
         "title": {
          "font": {
           "color": "Black",
           "family": "Courier New",
           "size": 13
          },
          "text": "युवा (२१-४०) प्रतिनिधित्व"
         }
        },
        "xaxis2": {
         "anchor": "y2",
         "domain": [
          0.35,
          0.6499999999999999
         ],
         "fixedrange": true,
         "showgrid": false,
         "showticklabels": true,
         "tickfont": {
          "family": "Arial",
          "size": 12
         },
         "title": {
          "font": {
           "color": "Black",
           "family": "Courier New",
           "size": 13
          },
          "text": "४१-६० उमेर समूह प्रतिनिधित्व"
         }
        },
        "xaxis3": {
         "anchor": "y3",
         "domain": [
          0.7,
          1
         ],
         "fixedrange": true,
         "showgrid": false,
         "showticklabels": true,
         "tickfont": {
          "family": "Arial",
          "size": 12
         },
         "title": {
          "font": {
           "color": "Black",
           "family": "Courier New",
           "size": 13
          },
          "text": "६०+ उमेर समूह प्रतिनिधित्व"
         }
        },
        "yaxis": {
         "anchor": "x",
         "domain": [
          0,
          1
         ],
         "fixedrange": true,
         "showgrid": false,
         "showticklabels": false
        },
        "yaxis2": {
         "anchor": "x2",
         "domain": [
          0,
          1
         ],
         "fixedrange": true,
         "matches": "y",
         "range": [
          -0.05,
          0.7
         ],
         "showgrid": false,
         "showticklabels": false
        },
        "yaxis3": {
         "anchor": "x3",
         "domain": [
          0,
          1
         ],
         "fixedrange": true,
         "matches": "y",
         "showgrid": false,
         "showticklabels": false
        }
       }
      },
      "text/html": [
       "<div>                            <div id=\"0684169c-23f4-4d28-9e74-03d717bdcec5\" class=\"plotly-graph-div\" style=\"height:525px; width:1000px;\"></div>            <script type=\"text/javascript\">                require([\"plotly\"], function(Plotly) {                    window.PLOTLYENV=window.PLOTLYENV || {};                                    if (document.getElementById(\"0684169c-23f4-4d28-9e74-03d717bdcec5\")) {                    Plotly.newPlot(                        \"0684169c-23f4-4d28-9e74-03d717bdcec5\",                        [{\"line\":{\"color\":\"#4C4C4F\",\"shape\":\"linear\"},\"mode\":\"lines+markers+text\",\"name\":\"\\u092a\\u0941\\u0930\\u0941\\u0937 \\u092a\\u094d\\u0930\\u0924\\u093f\\u0928\\u093f\\u0927\\u093f\\u0924\\u094d\\u0935\",\"showlegend\":false,\"text\":[\"\\u0968\\u096f,\\u096e\\u0966\\u096e\",\"\\u0969\\u0968,\\u0968\\u0969\\u096b\"],\"textposition\":[\"top right\",\"top left\"],\"x\":[\"\\u0968\\u0966\\u096d\\u096a\",\"\\u0968\\u0966\\u096d\\u096f\"],\"y\":[0.298,0.322],\"type\":\"scatter\",\"xaxis\":\"x\",\"yaxis\":\"y\"},{\"line\":{\"color\":\"#F82F49\",\"shape\":\"linear\"},\"mode\":\"lines+markers+text\",\"name\":\"\\u092e\\u0939\\u093f\\u0932\\u093e \\u092a\\u094d\\u0930\\u0924\\u093f\\u0928\\u093f\\u0927\\u093f\\u0924\\u094d\\u0935\",\"showlegend\":false,\"text\":[\"\\u0968\\u096d,\\u096e\\u096f\\u0968\",\"\\u0968\\u096d,\\u0967\\u096c\\u096d\"],\"textposition\":[\"bottom right\",\"bottom left\"],\"x\":[\"\\u0968\\u0966\\u096d\\u096a\",\"\\u0968\\u0966\\u096d\\u096f\"],\"y\":[0.279,0.272],\"type\":\"scatter\",\"xaxis\":\"x\",\"yaxis\":\"y\"},{\"line\":{\"color\":\"#4C4C4F\",\"shape\":\"linear\"},\"mode\":\"lines+markers+text\",\"name\":\"\\u092a\\u0941\\u0930\\u0941\\u0937 \\u092a\\u094d\\u0930\\u0924\\u093f\\u0928\\u093f\\u0927\\u093f\\u0924\\u094d\\u0935\",\"showlegend\":false,\"text\":[\"\\u096a\\u096f,\\u0966\\u0968\\u096a\",\"\\u096a\\u096d,\\u0967\\u0966\\u096f\"],\"textposition\":[\"top right\",\"top left\"],\"x\":[\"\\u0968\\u0966\\u096d\\u096a\",\"\\u0968\\u0966\\u096d\\u096f\"],\"y\":[0.49,0.471],\"type\":\"scatter\",\"xaxis\":\"x2\",\"yaxis\":\"y2\"},{\"line\":{\"color\":\"#F82F49\",\"shape\":\"linear\"},\"mode\":\"lines+markers+text\",\"name\":\"\\u092e\\u0939\\u093f\\u0932\\u093e \\u092a\\u094d\\u0930\\u0924\\u093f\\u0928\\u093f\\u0927\\u093f\\u0924\\u094d\\u0935\",\"showlegend\":false,\"text\":[\"\\u0968\\u096c,\\u096c\\u096a\\u096a\",\"\\u0968\\u096b,\\u096c\\u096a\\u096f\"],\"textposition\":[\"top right\",\"top left\"],\"x\":[\"\\u0968\\u0966\\u096d\\u096a\",\"\\u0968\\u0966\\u096d\\u096f\"],\"y\":[0.266,0.256],\"type\":\"scatter\",\"xaxis\":\"x2\",\"yaxis\":\"y2\"},{\"line\":{\"color\":\"#4C4C4F\",\"shape\":\"linear\"},\"mode\":\"lines+markers+text\",\"name\":\"\\u092a\\u0941\\u0930\\u0941\\u0937 \\u092a\\u094d\\u0930\\u0924\\u093f\\u0928\\u093f\\u0927\\u093f\\u0924\\u094d\\u0935\",\"text\":[\"\\u0967\\u0967,\\u096c\\u096e\\u096e\",\"\\u096f,\\u096e\\u096f\\u0969\"],\"textposition\":[\"top right\",\"top left\"],\"x\":[\"\\u0968\\u0966\\u096d\\u096a\",\"\\u0968\\u0966\\u096d\\u096f\"],\"y\":[0.12,0.1],\"type\":\"scatter\",\"xaxis\":\"x3\",\"yaxis\":\"y3\"},{\"line\":{\"color\":\"#F82F49\",\"shape\":\"linear\"},\"mode\":\"lines+markers+text\",\"name\":\"\\u092e\\u0939\\u093f\\u0932\\u093e \\u092a\\u094d\\u0930\\u0924\\u093f\\u0928\\u093f\\u0927\\u093f\\u0924\\u094d\\u0935\",\"text\":[\"\\u0969,\\u0969\\u0966\\u096d\",\"\\u0968,\\u096e\\u0966\\u096c\"],\"textposition\":[\"top right\",\"top left\"],\"x\":[\"\\u0968\\u0966\\u096d\\u096a\",\"\\u0968\\u0966\\u096d\\u096f\"],\"y\":[0.03307,0.02806],\"type\":\"scatter\",\"xaxis\":\"x3\",\"yaxis\":\"y3\"}],                        {\"template\":{\"data\":{\"bar\":[{\"error_x\":{\"color\":\"#2a3f5f\"},\"error_y\":{\"color\":\"#2a3f5f\"},\"marker\":{\"line\":{\"color\":\"#E5ECF6\",\"width\":0.5},\"pattern\":{\"fillmode\":\"overlay\",\"size\":10,\"solidity\":0.2}},\"type\":\"bar\"}],\"barpolar\":[{\"marker\":{\"line\":{\"color\":\"#E5ECF6\",\"width\":0.5},\"pattern\":{\"fillmode\":\"overlay\",\"size\":10,\"solidity\":0.2}},\"type\":\"barpolar\"}],\"carpet\":[{\"aaxis\":{\"endlinecolor\":\"#2a3f5f\",\"gridcolor\":\"white\",\"linecolor\":\"white\",\"minorgridcolor\":\"white\",\"startlinecolor\":\"#2a3f5f\"},\"baxis\":{\"endlinecolor\":\"#2a3f5f\",\"gridcolor\":\"white\",\"linecolor\":\"white\",\"minorgridcolor\":\"white\",\"startlinecolor\":\"#2a3f5f\"},\"type\":\"carpet\"}],\"choropleth\":[{\"colorbar\":{\"outlinewidth\":0,\"ticks\":\"\"},\"type\":\"choropleth\"}],\"contour\":[{\"colorbar\":{\"outlinewidth\":0,\"ticks\":\"\"},\"colorscale\":[[0.0,\"#0d0887\"],[0.1111111111111111,\"#46039f\"],[0.2222222222222222,\"#7201a8\"],[0.3333333333333333,\"#9c179e\"],[0.4444444444444444,\"#bd3786\"],[0.5555555555555556,\"#d8576b\"],[0.6666666666666666,\"#ed7953\"],[0.7777777777777778,\"#fb9f3a\"],[0.8888888888888888,\"#fdca26\"],[1.0,\"#f0f921\"]],\"type\":\"contour\"}],\"contourcarpet\":[{\"colorbar\":{\"outlinewidth\":0,\"ticks\":\"\"},\"type\":\"contourcarpet\"}],\"heatmap\":[{\"colorbar\":{\"outlinewidth\":0,\"ticks\":\"\"},\"colorscale\":[[0.0,\"#0d0887\"],[0.1111111111111111,\"#46039f\"],[0.2222222222222222,\"#7201a8\"],[0.3333333333333333,\"#9c179e\"],[0.4444444444444444,\"#bd3786\"],[0.5555555555555556,\"#d8576b\"],[0.6666666666666666,\"#ed7953\"],[0.7777777777777778,\"#fb9f3a\"],[0.8888888888888888,\"#fdca26\"],[1.0,\"#f0f921\"]],\"type\":\"heatmap\"}],\"heatmapgl\":[{\"colorbar\":{\"outlinewidth\":0,\"ticks\":\"\"},\"colorscale\":[[0.0,\"#0d0887\"],[0.1111111111111111,\"#46039f\"],[0.2222222222222222,\"#7201a8\"],[0.3333333333333333,\"#9c179e\"],[0.4444444444444444,\"#bd3786\"],[0.5555555555555556,\"#d8576b\"],[0.6666666666666666,\"#ed7953\"],[0.7777777777777778,\"#fb9f3a\"],[0.8888888888888888,\"#fdca26\"],[1.0,\"#f0f921\"]],\"type\":\"heatmapgl\"}],\"histogram\":[{\"marker\":{\"pattern\":{\"fillmode\":\"overlay\",\"size\":10,\"solidity\":0.2}},\"type\":\"histogram\"}],\"histogram2d\":[{\"colorbar\":{\"outlinewidth\":0,\"ticks\":\"\"},\"colorscale\":[[0.0,\"#0d0887\"],[0.1111111111111111,\"#46039f\"],[0.2222222222222222,\"#7201a8\"],[0.3333333333333333,\"#9c179e\"],[0.4444444444444444,\"#bd3786\"],[0.5555555555555556,\"#d8576b\"],[0.6666666666666666,\"#ed7953\"],[0.7777777777777778,\"#fb9f3a\"],[0.8888888888888888,\"#fdca26\"],[1.0,\"#f0f921\"]],\"type\":\"histogram2d\"}],\"histogram2dcontour\":[{\"colorbar\":{\"outlinewidth\":0,\"ticks\":\"\"},\"colorscale\":[[0.0,\"#0d0887\"],[0.1111111111111111,\"#46039f\"],[0.2222222222222222,\"#7201a8\"],[0.3333333333333333,\"#9c179e\"],[0.4444444444444444,\"#bd3786\"],[0.5555555555555556,\"#d8576b\"],[0.6666666666666666,\"#ed7953\"],[0.7777777777777778,\"#fb9f3a\"],[0.8888888888888888,\"#fdca26\"],[1.0,\"#f0f921\"]],\"type\":\"histogram2dcontour\"}],\"mesh3d\":[{\"colorbar\":{\"outlinewidth\":0,\"ticks\":\"\"},\"type\":\"mesh3d\"}],\"parcoords\":[{\"line\":{\"colorbar\":{\"outlinewidth\":0,\"ticks\":\"\"}},\"type\":\"parcoords\"}],\"pie\":[{\"automargin\":true,\"type\":\"pie\"}],\"scatter\":[{\"marker\":{\"colorbar\":{\"outlinewidth\":0,\"ticks\":\"\"}},\"type\":\"scatter\"}],\"scatter3d\":[{\"line\":{\"colorbar\":{\"outlinewidth\":0,\"ticks\":\"\"}},\"marker\":{\"colorbar\":{\"outlinewidth\":0,\"ticks\":\"\"}},\"type\":\"scatter3d\"}],\"scattercarpet\":[{\"marker\":{\"colorbar\":{\"outlinewidth\":0,\"ticks\":\"\"}},\"type\":\"scattercarpet\"}],\"scattergeo\":[{\"marker\":{\"colorbar\":{\"outlinewidth\":0,\"ticks\":\"\"}},\"type\":\"scattergeo\"}],\"scattergl\":[{\"marker\":{\"colorbar\":{\"outlinewidth\":0,\"ticks\":\"\"}},\"type\":\"scattergl\"}],\"scattermapbox\":[{\"marker\":{\"colorbar\":{\"outlinewidth\":0,\"ticks\":\"\"}},\"type\":\"scattermapbox\"}],\"scatterpolar\":[{\"marker\":{\"colorbar\":{\"outlinewidth\":0,\"ticks\":\"\"}},\"type\":\"scatterpolar\"}],\"scatterpolargl\":[{\"marker\":{\"colorbar\":{\"outlinewidth\":0,\"ticks\":\"\"}},\"type\":\"scatterpolargl\"}],\"scatterternary\":[{\"marker\":{\"colorbar\":{\"outlinewidth\":0,\"ticks\":\"\"}},\"type\":\"scatterternary\"}],\"surface\":[{\"colorbar\":{\"outlinewidth\":0,\"ticks\":\"\"},\"colorscale\":[[0.0,\"#0d0887\"],[0.1111111111111111,\"#46039f\"],[0.2222222222222222,\"#7201a8\"],[0.3333333333333333,\"#9c179e\"],[0.4444444444444444,\"#bd3786\"],[0.5555555555555556,\"#d8576b\"],[0.6666666666666666,\"#ed7953\"],[0.7777777777777778,\"#fb9f3a\"],[0.8888888888888888,\"#fdca26\"],[1.0,\"#f0f921\"]],\"type\":\"surface\"}],\"table\":[{\"cells\":{\"fill\":{\"color\":\"#EBF0F8\"},\"line\":{\"color\":\"white\"}},\"header\":{\"fill\":{\"color\":\"#C8D4E3\"},\"line\":{\"color\":\"white\"}},\"type\":\"table\"}]},\"layout\":{\"annotationdefaults\":{\"arrowcolor\":\"#2a3f5f\",\"arrowhead\":0,\"arrowwidth\":1},\"autotypenumbers\":\"strict\",\"coloraxis\":{\"colorbar\":{\"outlinewidth\":0,\"ticks\":\"\"}},\"colorscale\":{\"diverging\":[[0,\"#8e0152\"],[0.1,\"#c51b7d\"],[0.2,\"#de77ae\"],[0.3,\"#f1b6da\"],[0.4,\"#fde0ef\"],[0.5,\"#f7f7f7\"],[0.6,\"#e6f5d0\"],[0.7,\"#b8e186\"],[0.8,\"#7fbc41\"],[0.9,\"#4d9221\"],[1,\"#276419\"]],\"sequential\":[[0.0,\"#0d0887\"],[0.1111111111111111,\"#46039f\"],[0.2222222222222222,\"#7201a8\"],[0.3333333333333333,\"#9c179e\"],[0.4444444444444444,\"#bd3786\"],[0.5555555555555556,\"#d8576b\"],[0.6666666666666666,\"#ed7953\"],[0.7777777777777778,\"#fb9f3a\"],[0.8888888888888888,\"#fdca26\"],[1.0,\"#f0f921\"]],\"sequentialminus\":[[0.0,\"#0d0887\"],[0.1111111111111111,\"#46039f\"],[0.2222222222222222,\"#7201a8\"],[0.3333333333333333,\"#9c179e\"],[0.4444444444444444,\"#bd3786\"],[0.5555555555555556,\"#d8576b\"],[0.6666666666666666,\"#ed7953\"],[0.7777777777777778,\"#fb9f3a\"],[0.8888888888888888,\"#fdca26\"],[1.0,\"#f0f921\"]]},\"colorway\":[\"#636efa\",\"#EF553B\",\"#00cc96\",\"#ab63fa\",\"#FFA15A\",\"#19d3f3\",\"#FF6692\",\"#B6E880\",\"#FF97FF\",\"#FECB52\"],\"font\":{\"color\":\"#2a3f5f\"},\"geo\":{\"bgcolor\":\"white\",\"lakecolor\":\"white\",\"landcolor\":\"#E5ECF6\",\"showlakes\":true,\"showland\":true,\"subunitcolor\":\"white\"},\"hoverlabel\":{\"align\":\"left\"},\"hovermode\":\"closest\",\"mapbox\":{\"style\":\"light\"},\"paper_bgcolor\":\"white\",\"plot_bgcolor\":\"#E5ECF6\",\"polar\":{\"angularaxis\":{\"gridcolor\":\"white\",\"linecolor\":\"white\",\"ticks\":\"\"},\"bgcolor\":\"#E5ECF6\",\"radialaxis\":{\"gridcolor\":\"white\",\"linecolor\":\"white\",\"ticks\":\"\"}},\"scene\":{\"xaxis\":{\"backgroundcolor\":\"#E5ECF6\",\"gridcolor\":\"white\",\"gridwidth\":2,\"linecolor\":\"white\",\"showbackground\":true,\"ticks\":\"\",\"zerolinecolor\":\"white\"},\"yaxis\":{\"backgroundcolor\":\"#E5ECF6\",\"gridcolor\":\"white\",\"gridwidth\":2,\"linecolor\":\"white\",\"showbackground\":true,\"ticks\":\"\",\"zerolinecolor\":\"white\"},\"zaxis\":{\"backgroundcolor\":\"#E5ECF6\",\"gridcolor\":\"white\",\"gridwidth\":2,\"linecolor\":\"white\",\"showbackground\":true,\"ticks\":\"\",\"zerolinecolor\":\"white\"}},\"shapedefaults\":{\"line\":{\"color\":\"#2a3f5f\"}},\"ternary\":{\"aaxis\":{\"gridcolor\":\"white\",\"linecolor\":\"white\",\"ticks\":\"\"},\"baxis\":{\"gridcolor\":\"white\",\"linecolor\":\"white\",\"ticks\":\"\"},\"bgcolor\":\"#E5ECF6\",\"caxis\":{\"gridcolor\":\"white\",\"linecolor\":\"white\",\"ticks\":\"\"}},\"title\":{\"x\":0.05},\"xaxis\":{\"automargin\":true,\"gridcolor\":\"white\",\"linecolor\":\"white\",\"ticks\":\"\",\"title\":{\"standoff\":15},\"zerolinecolor\":\"white\",\"zerolinewidth\":2},\"yaxis\":{\"automargin\":true,\"gridcolor\":\"white\",\"linecolor\":\"white\",\"ticks\":\"\",\"title\":{\"standoff\":15},\"zerolinecolor\":\"white\",\"zerolinewidth\":2}}},\"xaxis\":{\"anchor\":\"y\",\"domain\":[0.0,0.3],\"tickfont\":{\"family\":\"Arial\",\"size\":12},\"showgrid\":false,\"showticklabels\":true,\"title\":{\"font\":{\"family\":\"Courier New\",\"color\":\"Black\",\"size\":13},\"text\":\"\\u092f\\u0941\\u0935\\u093e (\\u0968\\u0967-\\u096a\\u0966) \\u092a\\u094d\\u0930\\u0924\\u093f\\u0928\\u093f\\u0927\\u093f\\u0924\\u094d\\u0935\"},\"fixedrange\":true},\"yaxis\":{\"anchor\":\"x\",\"domain\":[0.0,1.0],\"showgrid\":false,\"showticklabels\":false,\"fixedrange\":true},\"xaxis2\":{\"anchor\":\"y2\",\"domain\":[0.35,0.6499999999999999],\"tickfont\":{\"family\":\"Arial\",\"size\":12},\"showgrid\":false,\"showticklabels\":true,\"title\":{\"font\":{\"family\":\"Courier New\",\"color\":\"Black\",\"size\":13},\"text\":\"\\u096a\\u0967-\\u096c\\u0966 \\u0909\\u092e\\u0947\\u0930 \\u0938\\u092e\\u0942\\u0939 \\u092a\\u094d\\u0930\\u0924\\u093f\\u0928\\u093f\\u0927\\u093f\\u0924\\u094d\\u0935\"},\"fixedrange\":true},\"yaxis2\":{\"anchor\":\"x2\",\"domain\":[0.0,1.0],\"matches\":\"y\",\"showticklabels\":false,\"showgrid\":false,\"range\":[-0.05,0.7],\"fixedrange\":true},\"xaxis3\":{\"anchor\":\"y3\",\"domain\":[0.7,1.0],\"tickfont\":{\"family\":\"Arial\",\"size\":12},\"showgrid\":false,\"showticklabels\":true,\"title\":{\"font\":{\"family\":\"Courier New\",\"color\":\"Black\",\"size\":13},\"text\":\"\\u096c\\u0966+ \\u0909\\u092e\\u0947\\u0930 \\u0938\\u092e\\u0942\\u0939 \\u092a\\u094d\\u0930\\u0924\\u093f\\u0928\\u093f\\u0927\\u093f\\u0924\\u094d\\u0935\"},\"fixedrange\":true},\"yaxis3\":{\"anchor\":\"x3\",\"domain\":[0.0,1.0],\"matches\":\"y\",\"showticklabels\":false,\"showgrid\":false,\"fixedrange\":true},\"plot_bgcolor\":\"#e8f9f6\",\"autosize\":false,\"width\":1000},                        {\"responsive\": true}                    ).then(function(){\n",
       "                            \n",
       "var gd = document.getElementById('0684169c-23f4-4d28-9e74-03d717bdcec5');\n",
       "var x = new MutationObserver(function (mutations, observer) {{\n",
       "        var display = window.getComputedStyle(gd).display;\n",
       "        if (!display || display === 'none') {{\n",
       "            console.log([gd, 'removed!']);\n",
       "            Plotly.purge(gd);\n",
       "            observer.disconnect();\n",
       "        }}\n",
       "}});\n",
       "\n",
       "// Listen for the removal of the full notebook cells\n",
       "var notebookContainer = gd.closest('#notebook-container');\n",
       "if (notebookContainer) {{\n",
       "    x.observe(notebookContainer, {childList: true});\n",
       "}}\n",
       "\n",
       "// Listen for the clearing of the current output cell\n",
       "var outputEl = gd.closest('.output');\n",
       "if (outputEl) {{\n",
       "    x.observe(outputEl, {childList: true});\n",
       "}}\n",
       "\n",
       "                        })                };                });            </script>        </div>"
      ]
     },
     "metadata": {},
     "output_type": "display_data"
    }
   ],
   "source": [
    "import pandas as pd\n",
    "import numpy as np\n",
    "import plotly.graph_objects as go\n",
    "from plotly.subplots import make_subplots\n",
    "\n",
    "df1=pd.read_csv(\"youth_gender.csv\")\n",
    "df2=pd.read_csv(\"41-60_gender.csv\")\n",
    "df3=pd.read_csv(\"60+_gender.csv\")\n",
    "\n",
    "df1.set_index('वर्ष',inplace=True)\n",
    "df2.set_index('वर्ष',inplace=True)\n",
    "df3.set_index('वर्ष',inplace=True)\n",
    "\n",
    "x_data = df1.index\n",
    "y_data1 = df1['पुरुष-n']\n",
    "y_data2 = df1['महिला-n']\n",
    "x_data2 = df2.index\n",
    "y_data3 = df2['पुरुष-n']\n",
    "y_data4 = df2['महिला-n']\n",
    "x_data3 = df3.index\n",
    "y_data5 = df3['पुरुष-n']\n",
    "y_data6 = df3['महिला-n']\n",
    "\n",
    "fig = make_subplots(rows=1,cols=3,shared_yaxes=True,shared_xaxes=True,horizontal_spacing=0.05)\n",
    "\n",
    "fig.add_trace(go.Scatter(x=x_data, y=y_data1, mode='lines+markers+text',name=\"पुरुष प्रतिनिधित्व\",text=['२९,८०८','३२,२३५'],textposition=['top right', 'top left'],\n",
    "                    line_shape='linear',line_color='#4C4C4F',showlegend=False),\n",
    "              row=1,col=1\n",
    "             )\n",
    "fig.add_trace(go.Scatter(x=x_data, y=y_data2, mode='lines+markers+text',name=\"महिला प्रतिनिधित्व\",text=['२७,८९२','२७,१६७'],textposition=['bottom right', 'bottom left'],line_shape='linear',line_color='#F82F49',showlegend=False),\n",
    "              row=1,col=1\n",
    "             )\n",
    "fig.add_trace(go.Scatter(x=x_data, y=y_data3, mode='lines+markers+text',name=\"पुरुष प्रतिनिधित्व\",text=['४९,०२४','४७,१०९'],textposition=['top right', 'top left'],\n",
    "                    line_shape='linear',line_color='#4C4C4F',showlegend=False),\n",
    "              row=1,col=2\n",
    "             )\n",
    "fig.append_trace(go.Scatter(x=x_data2, y=y_data4, mode='lines+markers+text',name=\"महिला प्रतिनिधित्व\",text=['२६,६४४','२५,६४९'],textposition=['top right', 'top left'],line_shape='linear',line_color='#F82F49',showlegend=False),\n",
    "              row=1,col=2\n",
    "             )\n",
    "fig.append_trace(go.Scatter(x=x_data3, y=y_data5, mode='lines+markers+text',name=\"पुरुष प्रतिनिधित्व\",text=['११,६८८','९,८९३'],textposition=['top right', 'top left'],\n",
    "                    line_shape='linear',line_color='#4C4C4F'),\n",
    "              row=1,col=3\n",
    "             )\n",
    "fig.append_trace(go.Scatter(x=x_data3, y=y_data6, mode='lines+markers+text',name=\"महिला प्रतिनिधित्व\",text=['३,३०७','२,८०६'],textposition=['top right', 'top left'],line_shape='linear',line_color='#F82F49'),\n",
    "              row=1,col=3\n",
    "             )\n",
    "\n",
    "fig.update_xaxes(showgrid=False,showticklabels=True,tickfont=dict(family='Arial',size=12))\n",
    "fig.update_xaxes(title_text=\"युवा (२१-४०) प्रतिनिधित्व\", title_font_family=\"Courier New\",title_font_color=\"Black\",title_font_size=13, row=1, col=1)\n",
    "fig.update_xaxes(title_text=\"४१-६० उमेर समूह प्रतिनिधित्व\", title_font_family=\"Courier New\",title_font_color=\"Black\", title_font_size=13, row=1, col=2)\n",
    "fig.update_xaxes(title_text=\"६०+ उमेर समूह प्रतिनिधित्व\", title_font_family=\"Courier New\",title_font_color=\"Black\",title_font_size=13, row=1, col=3)\n",
    "\n",
    "fig.update_yaxes(showgrid=False,showticklabels=False)\n",
    "\n",
    "fig.update_layout(plot_bgcolor=\"#e8f9f6\",autosize=False,width=1000,\n",
    "#                   title={\n",
    "#         'text': \"महिला र पुरुषहरूको प्रतिनिधित्वमा परिवर्तन (२०७४-२०७९)\",\n",
    "#         'y':0.85,\n",
    "#         'x':0.47,\n",
    "#         'xanchor': 'center',\n",
    "#         'yanchor': 'top'},\n",
    "                  yaxis2 = dict(range=[-0.05, 0.7]))\n",
    "\n",
    "# fig.add_annotation(\n",
    "#     xref=\"x domain\",\n",
    "#     yref=\"y domain\",\n",
    "#     x=2,\n",
    "#     y=-0.3,\n",
    "#     font=dict(\n",
    "#                 color=\"#888888\",\n",
    "#                 size=14\n",
    "#             ),\n",
    "#     text=\"स्रोत: निर्वाचन आयोग    |    स्थानीय तह निर्वाचन २०७९    |    © अनलाइनखबर\",\n",
    "#      showarrow=False,\n",
    "# )\n",
    "# fig.update_layout(margin=dict(pad=10))\n",
    "# # fig.update_layout(legend=dict(y=1.1,x=1,title_font_family=\"Times New Roman\",\n",
    "# #                               font=dict(size= 13)\n",
    "# # ))\n",
    "\n",
    "config={\"modeBarButtonsToRemove\": ['select2d','zoomIn2d','zoomOut2d','zoom2d','pan2d','lasso2d','autoScale2d','resetScale2d','resetScale2d'],'displaylogo': False}\n",
    "fig.update_xaxes(fixedrange=True)\n",
    "fig.update_yaxes(fixedrange=True)\n",
    "fig.write_html(\"agegendertrend.html\",config=config ,full_html=False, include_plotlyjs='cdn')\n",
    "\n",
    "fig.show()"
   ]
  },
  {
   "cell_type": "code",
   "execution_count": null,
   "id": "104548a9",
   "metadata": {},
   "outputs": [],
   "source": []
  }
 ],
 "metadata": {
  "kernelspec": {
   "display_name": "Python 3 (ipykernel)",
   "language": "python",
   "name": "python3"
  },
  "language_info": {
   "codemirror_mode": {
    "name": "ipython",
    "version": 3
   },
   "file_extension": ".py",
   "mimetype": "text/x-python",
   "name": "python",
   "nbconvert_exporter": "python",
   "pygments_lexer": "ipython3",
   "version": "3.9.7"
  }
 },
 "nbformat": 4,
 "nbformat_minor": 5
}
